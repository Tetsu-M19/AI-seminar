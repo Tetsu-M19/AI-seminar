{
 "cells": [
  {
   "cell_type": "code",
   "execution_count": 3,
   "metadata": {
    "colab": {
     "base_uri": "https://localhost:8080/"
    },
    "executionInfo": {
     "elapsed": 437,
     "status": "ok",
     "timestamp": 1660652945131,
     "user": {
      "displayName": "山口哲弘",
      "userId": "06897743095690117498"
     },
     "user_tz": -540
    },
    "id": "nikRRdY9lvut",
    "outputId": "09779ded-9fec-42e9-ab7c-b0e6f2498189"
   },
   "outputs": [
    {
     "name": "stdout",
     "output_type": "stream",
     "text": [
      "123\n",
      "86 12 25\n"
     ]
    }
   ],
   "source": [
    "import glob\n",
    "import torch\n",
    "\n",
    "img_path = \"./image/*.png\"\n",
    "# 指定パスのPNG画像ファイルのリストを取得\n",
    "img_data = sorted(glob.glob(img_path))\n",
    "print(len(img_data))\n",
    "train_ratio = int(len(img_data) * 0.7)\n",
    "val_ratio = int(len(img_data) * 0.1)\n",
    "test_ratio = int(len(img_data)) - train_ratio - val_ratio\n",
    "\n",
    "train, val, test = torch.utils.data.random_split(dataset=img_data, lengths=[train_ratio, val_ratio, test_ratio], generator=torch.Generator().manual_seed(42))\n",
    "\n",
    "print(len(train), len(val), len(test))"
   ]
  },
  {
   "cell_type": "code",
   "execution_count": 4,
   "metadata": {
    "executionInfo": {
     "elapsed": 357,
     "status": "ok",
     "timestamp": 1660652962043,
     "user": {
      "displayName": "山口哲弘",
      "userId": "06897743095690117498"
     },
     "user_tz": -540
    },
    "id": "nEr1i_QpFU9E"
   },
   "outputs": [],
   "source": [
    "f = open('./val.txt', 'w')\n",
    "for i in val:\n",
    "  f.write(f'{i}\\n')\n",
    "\n",
    "f.close()\n",
    "\n",
    "f = open('./train.txt', 'w')\n",
    "for i in train:\n",
    "  f.write(f'{i}\\n')\n",
    "\n",
    "f.close()\n",
    "\n",
    "f = open('./test.txt', 'w')\n",
    "for i in test:\n",
    "  f.write(f'{i}\\n')\n",
    "\n",
    "f.close()"
   ]
  },
  {
   "cell_type": "code",
   "execution_count": 12,
   "metadata": {},
   "outputs": [
    {
     "name": "stdout",
     "output_type": "stream",
     "text": [
      "Tue Oct 11 19:01:48 2022       \n",
      "+-----------------------------------------------------------------------------+\n",
      "| NVIDIA-SMI 470.141.03   Driver Version: 470.141.03   CUDA Version: 11.4     |\n",
      "|-------------------------------+----------------------+----------------------+\n",
      "| GPU  Name        Persistence-M| Bus-Id        Disp.A | Volatile Uncorr. ECC |\n",
      "| Fan  Temp  Perf  Pwr:Usage/Cap|         Memory-Usage | GPU-Util  Compute M. |\n",
      "|                               |                      |               MIG M. |\n",
      "|===============================+======================+======================|\n",
      "|   0  NVIDIA GeForce ...  Off  | 00000000:18:00.0 Off |                  N/A |\n",
      "| 18%   32C    P8     1W / 250W |   2514MiB / 11019MiB |      0%      Default |\n",
      "|                               |                      |                  N/A |\n",
      "+-------------------------------+----------------------+----------------------+\n",
      "|   1  NVIDIA GeForce ...  Off  | 00000000:3B:00.0 Off |                  N/A |\n",
      "| 18%   31C    P8     1W / 250W |      8MiB / 11019MiB |      0%      Default |\n",
      "|                               |                      |                  N/A |\n",
      "+-------------------------------+----------------------+----------------------+\n",
      "|   2  NVIDIA GeForce ...  Off  | 00000000:86:00.0 Off |                  N/A |\n",
      "| 17%   32C    P8    20W / 250W |   1261MiB / 11019MiB |      0%      Default |\n",
      "|                               |                      |                  N/A |\n",
      "+-------------------------------+----------------------+----------------------+\n",
      "|   3  NVIDIA GeForce ...  Off  | 00000000:AF:00.0 Off |                  N/A |\n",
      "| 17%   30C    P8     8W / 250W |      8MiB / 11019MiB |      0%      Default |\n",
      "|                               |                      |                  N/A |\n",
      "+-------------------------------+----------------------+----------------------+\n",
      "|   4  Quadro P400         Off  | 00000000:D8:00.0 Off |                  N/A |\n",
      "| 34%   32C    P8    N/A /  N/A |      8MiB /  2000MiB |      0%      Default |\n",
      "|                               |                      |                  N/A |\n",
      "+-------------------------------+----------------------+----------------------+\n",
      "                                                                               \n",
      "+-----------------------------------------------------------------------------+\n",
      "| Processes:                                                                  |\n",
      "|  GPU   GI   CI        PID   Type   Process name                  GPU Memory |\n",
      "|        ID   ID                                                   Usage      |\n",
      "|=============================================================================|\n",
      "|    0   N/A  N/A      2314      G   /usr/lib/xorg/Xorg                  4MiB |\n",
      "|    0   N/A  N/A     11446      C   ...nda3/envs/py36/bin/python     1253MiB |\n",
      "|    0   N/A  N/A     14863      C   ...nda3/envs/py36/bin/python     1253MiB |\n",
      "|    1   N/A  N/A      2314      G   /usr/lib/xorg/Xorg                  4MiB |\n",
      "|    2   N/A  N/A      2314      G   /usr/lib/xorg/Xorg                  4MiB |\n",
      "|    2   N/A  N/A     14863      C   ...nda3/envs/py36/bin/python     1253MiB |\n",
      "|    3   N/A  N/A      2314      G   /usr/lib/xorg/Xorg                  4MiB |\n",
      "|    4   N/A  N/A      2314      G   /usr/lib/xorg/Xorg                  4MiB |\n",
      "+-----------------------------------------------------------------------------+\n"
     ]
    }
   ],
   "source": [
    "%%bash\n",
    "nvidia-smi"
   ]
  },
  {
   "cell_type": "code",
   "execution_count": 6,
   "metadata": {},
   "outputs": [
    {
     "name": "stdout",
     "output_type": "stream",
     "text": [
      "CUDA:0 NVIDIA GeForce RTX 2080 Ti, 11019.4375MB\n",
      "CUDA:1 NVIDIA GeForce RTX 2080 Ti, 11019.4375MB\n",
      "CUDA:2 NVIDIA GeForce RTX 2080 Ti, 11019.4375MB\n",
      "CUDA:3 NVIDIA GeForce RTX 2080 Ti, 11019.4375MB\n",
      "CUDA:4 Quadro P400, 2000.3125MB\n"
     ]
    }
   ],
   "source": [
    "import torch\n",
    "\n",
    "# os.environ[\"CUDA_DEVICE_ORDER\"] = \"PCI_BUS_ID\"\n",
    "# os.environ[\"CUDA_VISIBLE_DEVICES\"] = \"0,1,2,3\"\n",
    "\n",
    "for i in range(torch.cuda.device_count()):\n",
    "    info = torch.cuda.get_device_properties(i)\n",
    "    print(f\"CUDA:{i} {info.name}, {info.total_memory / 1024 ** 2}MB\")"
   ]
  },
  {
   "cell_type": "code",
   "execution_count": null,
   "metadata": {},
   "outputs": [],
   "source": []
  }
 ],
 "metadata": {
  "colab": {
   "authorship_tag": "ABX9TyOi9X7H8SKtB4EbRQzoCBHM",
   "mount_file_id": "1J9XwzFZu1ASi-5_1xzbZ1K22Rj1mep_c",
   "name": "split_data.ipynb",
   "provenance": []
  },
  "kernelspec": {
   "display_name": "Python 3",
   "language": "python",
   "name": "python3"
  },
  "language_info": {
   "codemirror_mode": {
    "name": "ipython",
    "version": 3
   },
   "file_extension": ".py",
   "mimetype": "text/x-python",
   "name": "python",
   "nbconvert_exporter": "python",
   "pygments_lexer": "ipython3",
   "version": "3.6.10"
  }
 },
 "nbformat": 4,
 "nbformat_minor": 4
}
